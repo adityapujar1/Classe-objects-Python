{
 "cells": [
  {
   "cell_type": "markdown",
   "metadata": {},
   "source": [
    "Writing test cases for functions"
   ]
  },
  {
   "cell_type": "code",
   "execution_count": 1,
   "metadata": {},
   "outputs": [
    {
     "name": "stdout",
     "output_type": "stream",
     "text": [
      "a is repeating 1 times.\n",
      "b is repeating 2 times.\n",
      "c is repeating 3 times.\n",
      "d is repeating 4 times.\n"
     ]
    }
   ],
   "source": [
    "def update_counts(letters):\n",
    "    count = {}\n",
    "    for i in letters:\n",
    "        if i in count:\n",
    "            count[i] = count[i] + 1\n",
    "        else:\n",
    "            count[i] = 1\n",
    "    for j in count:\n",
    "        print(\"{} is repeating {} times.\".format(j, count[j]))\n",
    "adi = update_counts(\"abbcccdddd\")\n"
   ]
  },
  {
   "cell_type": "code",
   "execution_count": null,
   "metadata": {},
   "outputs": [],
   "source": []
  }
 ],
 "metadata": {
  "kernelspec": {
   "display_name": "Python 3",
   "language": "python",
   "name": "python3"
  },
  "language_info": {
   "codemirror_mode": {
    "name": "ipython",
    "version": 3
   },
   "file_extension": ".py",
   "mimetype": "text/x-python",
   "name": "python",
   "nbconvert_exporter": "python",
   "pygments_lexer": "ipython3",
   "version": "3.7.9"
  }
 },
 "nbformat": 4,
 "nbformat_minor": 4
}
