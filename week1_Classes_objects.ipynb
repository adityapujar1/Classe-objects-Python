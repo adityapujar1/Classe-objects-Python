{
 "cells": [
  {
   "cell_type": "code",
   "execution_count": 1,
   "metadata": {},
   "outputs": [],
   "source": [
    "import torch"
   ]
  },
  {
   "cell_type": "code",
   "execution_count": 2,
   "metadata": {},
   "outputs": [
    {
     "data": {
      "text/plain": [
       "False"
      ]
     },
     "execution_count": 2,
     "metadata": {},
     "output_type": "execute_result"
    }
   ],
   "source": [
    "torch.cuda.is_available()"
   ]
  },
  {
   "cell_type": "code",
   "execution_count": 3,
   "metadata": {},
   "outputs": [],
   "source": [
    "torch.version.cuda"
   ]
  },
  {
   "cell_type": "code",
   "execution_count": 4,
   "metadata": {},
   "outputs": [
    {
     "data": {
      "text/plain": [
       "torch.Tensor"
      ]
     },
     "execution_count": 4,
     "metadata": {},
     "output_type": "execute_result"
    }
   ],
   "source": [
    "import torch\n",
    "import numpy as np\n",
    "t= torch.Tensor()\n",
    "type(t)"
   ]
  },
  {
   "cell_type": "code",
   "execution_count": 5,
   "metadata": {},
   "outputs": [
    {
     "name": "stdout",
     "output_type": "stream",
     "text": [
      "torch.float32\n"
     ]
    }
   ],
   "source": [
    "print(t.dtype) #each datatype has cpu and GPU version. Tensor operations shud happen between tensors of same data types. "
   ]
  },
  {
   "cell_type": "code",
   "execution_count": 6,
   "metadata": {},
   "outputs": [
    {
     "name": "stdout",
     "output_type": "stream",
     "text": [
      "cpu\n"
     ]
    }
   ],
   "source": [
    "print(t.device)"
   ]
  },
  {
   "cell_type": "code",
   "execution_count": 7,
   "metadata": {},
   "outputs": [
    {
     "name": "stdout",
     "output_type": "stream",
     "text": [
      "torch.strided\n"
     ]
    }
   ],
   "source": [
    "print(t.layout)"
   ]
  },
  {
   "cell_type": "code",
   "execution_count": 8,
   "metadata": {},
   "outputs": [
    {
     "name": "stdout",
     "output_type": "stream",
     "text": [
      "11\n"
     ]
    }
   ],
   "source": [
    "class Point():\n",
    "    def __init__(self, x, y): ##constructor\n",
    "        self.x = x\n",
    "        self.y = y\n",
    "        self.z = x + y\n",
    "        \n",
    "    def get(self):       # method 1\n",
    "        return self.x\n",
    "    def gety(self):      # method 2\n",
    "        return self.y\n",
    "    \n",
    "p = Point(1,10)\n",
    "print(p.z)"
   ]
  },
  {
   "cell_type": "code",
   "execution_count": 2,
   "metadata": {},
   "outputs": [
    {
     "name": "stdout",
     "output_type": "stream",
     "text": [
      "[<__main__.City object at 0x000002622D04C288>]\n",
      "[<__main__.City object at 0x000002622D04C288>, <__main__.City object at 0x000002622D04C308>]\n",
      "[<__main__.City object at 0x000002622D04C288>, <__main__.City object at 0x000002622D04C308>, <__main__.City object at 0x000002622AF4F6C8>]\n",
      "[<__main__.City object at 0x000002622D04C288>, <__main__.City object at 0x000002622D04C308>, <__main__.City object at 0x000002622AF4F6C8>, <__main__.City object at 0x000002622D01E648>]\n",
      "[<__main__.City object at 0x000002622D04C288>, <__main__.City object at 0x000002622D04C308>, <__main__.City object at 0x000002622AF4F6C8>, <__main__.City object at 0x000002622D01E648>, <__main__.City object at 0x000002622D01E6C8>]\n"
     ]
    }
   ],
   "source": [
    "citynames = [\"banglr\", \"hyd\", \"jammu\", \"mumbai\", \"delhi\"]\n",
    "population = [100, 200, 300, 400, 500]\n",
    "state = [\"ka\", \"ta\", \"jk\", \"mh\", \"dl\"]\n",
    "\n",
    "city_tuples = zip(citynames, population, state)\n",
    "city_tuples\n",
    "\n",
    "class City:\n",
    "    def __init__(self,n,p,s):\n",
    "        self.name = n\n",
    "        self.population = p\n",
    "        self.state = s\n",
    "    def __str__(self):\n",
    "        return \"{}, {} (pop: {})\".format(self.name, self.state, self.population)\n",
    "\n",
    "cities = []\n",
    "for city_tup in city_tuples:\n",
    "    name, population, state = city_tup\n",
    "    city = City(name, population, state)\n",
    "    cities.append(city)\n",
    "    print(cities)\n",
    "\n",
    "# cities = [City(n,p,s) for (n,p,s) in city_tuples]\n",
    "# print(cities)"
   ]
  },
  {
   "cell_type": "code",
   "execution_count": 4,
   "metadata": {},
   "outputs": [
    {
     "name": "stdout",
     "output_type": "stream",
     "text": [
      "<__main__.Point object at 0x000002622D0ACC08>\n"
     ]
    }
   ],
   "source": [
    "class Point():\n",
    "    def __init__(self, x, y): ### I can access x, y and z by printing p.x, p.y and p.z. but i cant access the same from the \n",
    "        #other methods \n",
    "        # than the constructor. I am not sure how to access or i can even access the parameters from other methods. \n",
    "        self.x = x\n",
    "        self.y = y\n",
    "        self.z = x + y\n",
    "        \n",
    "    def getx(self):\n",
    "        return self.x\n",
    "    \n",
    "    def gety(self):\n",
    "        return self.y\n",
    "    \n",
    "    def distfromorigin(self):\n",
    "        return ((self.x**2)+(self.y**2))**0.5 \n",
    "        \n",
    "    \n",
    "p = Point(3,4)\n",
    "print(p)"
   ]
  },
  {
   "cell_type": "code",
   "execution_count": 11,
   "metadata": {},
   "outputs": [
    {
     "name": "stdout",
     "output_type": "stream",
     "text": [
      "point (3, 4)\n"
     ]
    }
   ],
   "source": [
    "class Point():\n",
    "    def __init__(self, x, y): ### I can access x, y and z by printing p.x, p.y and p.z. but i cant access the same from the \n",
    "        #other methods \n",
    "        # than the constructor. I am not sure how to access or i can even access the parameters from other methods. \n",
    "        self.x = x\n",
    "        self.y = y\n",
    "        self.z = x + y\n",
    "        \n",
    "    def getx(self):\n",
    "        return self.x\n",
    "    \n",
    "    def gety(self):\n",
    "        return self.y\n",
    "    \n",
    "    def distfromorigin(self):\n",
    "        return ((self.x**2)+(self.y**2))**0.5 \n",
    "    \n",
    "    def __str__(self):                       # this basically pints out whatever i write in return function. output will be \n",
    "                                            # point(3,4)\n",
    "        return \"point ({}, {})\".format(self.x, self.y)\n",
    "        \n",
    "    \n",
    "p = Point(3,4)\n",
    "print(p)"
   ]
  },
  {
   "cell_type": "code",
   "execution_count": 12,
   "metadata": {},
   "outputs": [
    {
     "name": "stdout",
     "output_type": "stream",
     "text": [
      "Point (2, 4)\n",
      "Point (4, 6)\n",
      "Point (6, 10)\n",
      "Point (3.0, 5.0)\n"
     ]
    }
   ],
   "source": [
    "class Point():\n",
    "    def __init__(self, x, y): ### I can access x, y and z by printing p.x, p.y and p.z. but i cant access the same from the \n",
    "        #other methods \n",
    "        # than the constructor. I am not sure how to access or i can even access the parameters from other methods. \n",
    "        self.x = x           # x and y are instance variables\n",
    "        self.y = y\n",
    "        self.z = x + y\n",
    "    \n",
    "    def __str__(self):                       # this basically pints out whatever i write in return function. output will be \n",
    "                                            # point(3,4)\n",
    "        return \"Point ({}, {})\".format(self.x, self.y)\n",
    "    \n",
    "    def __add__(self, otherpt):\n",
    "        return Point(self.x + otherpt.x, self.y + otherpt.y)\n",
    "    \n",
    "    def halfway(self, target):             # i feel that, __add__ , __str__are inbuilt functions, halfway is not predefined. \n",
    "        mx = (self.x + target.x)/2\n",
    "        my = (self.y + target.y)/2\n",
    "        return Point(mx,my)\n",
    "        \n",
    "    \n",
    "p1 = Point(2,4)\n",
    "print(p1)\n",
    "p2 = Point(4,6)\n",
    "print(p2)\n",
    "print(p1 + p2)\n",
    "mid = p1.halfway(p2)\n",
    "print(mid)"
   ]
  },
  {
   "cell_type": "markdown",
   "metadata": {},
   "source": [
    "Sorting Lists of instances"
   ]
  },
  {
   "cell_type": "code",
   "execution_count": 13,
   "metadata": {},
   "outputs": [
    {
     "name": "stdout",
     "output_type": "stream",
     "text": [
      "orange, 10\n",
      "banana, 20\n",
      "apple, 50\n"
     ]
    }
   ],
   "source": [
    "class Fruit():\n",
    "    def __init__(self, name, price):\n",
    "        self.name = name\n",
    "        self.price = price\n",
    "    def sort_priority(self):\n",
    "        return self.price\n",
    "    def __str__(self):                      \n",
    "        return \"{}, {}\".format(self.name, self.price)\n",
    "    \n",
    "    \n",
    "L = [Fruit(\"apple\", 50), Fruit(\"orange\", 10), Fruit(\"banana\", 20)] #An item has a key and a corresponding value that is expressed as a pair (key: value). While the values can be of any data type and can repeat, keys must be of immutable type \n",
    "#(string, number or tuple with immutable elements) and must be unique\n",
    "\n",
    "for f in sorted(L, key = Fruit.sort_priority):\n",
    "    print(f)"
   ]
  },
  {
   "cell_type": "code",
   "execution_count": 14,
   "metadata": {},
   "outputs": [
    {
     "name": "stdout",
     "output_type": "stream",
     "text": [
      "Bike has blue color and 89.99 price\n",
      "Bike has purple color and 25.0 price\n"
     ]
    }
   ],
   "source": [
    "class Bike():\n",
    "    def __init__(self, color, price):\n",
    "        self.color = color\n",
    "        self.price = price\n",
    "    def __str__(self):\n",
    "        return \"Bike has {} color and {} price\".format(self.color, self. price)\n",
    "    \n",
    "testOne = Bike(\"blue\", 89.99)\n",
    "testTwo = Bike(\"purple\", 25.0)\n",
    "print(testOne)\n",
    "print(testTwo)"
   ]
  },
  {
   "cell_type": "code",
   "execution_count": 15,
   "metadata": {},
   "outputs": [
    {
     "name": "stdout",
     "output_type": "stream",
     "text": [
      "Your account Bob, has 100 dollers.\n"
     ]
    }
   ],
   "source": [
    "class BankAccount():\n",
    "    def __init__(self, name, amt):\n",
    "        self.name = name\n",
    "        self.amt = amt\n",
    "        \n",
    "    def __str__(self):\n",
    "        return \"Your account {}, has {} dollers.\".format(self.name, self.amt)\n",
    "    \n",
    "t1 = BankAccount(\"Bob\", 100)\n",
    "print(t1)"
   ]
  },
  {
   "cell_type": "markdown",
   "metadata": {},
   "source": [
    "Inheriting variables and methods"
   ]
  },
  {
   "cell_type": "code",
   "execution_count": 16,
   "metadata": {},
   "outputs": [
    {
     "name": "stdout",
     "output_type": "stream",
     "text": [
      "Aditya (27)\n"
     ]
    }
   ],
   "source": [
    "Current_year = 2020  #normal class\n",
    "class Person():\n",
    "    def __init__(self, name, year_born):\n",
    "        self.name = name\n",
    "        self.year_born = year_born\n",
    "        \n",
    "    def getage(self):\n",
    "        return Current_year - self.year_born\n",
    "    \n",
    "    def __str__(self):\n",
    "        return \"{} ({})\".format(self.name, self.getage())\n",
    "adi = Person(\"Aditya\", 1993)\n",
    "print(adi)\n",
    "    "
   ]
  },
  {
   "cell_type": "code",
   "execution_count": 17,
   "metadata": {},
   "outputs": [
    {
     "name": "stdout",
     "output_type": "stream",
     "text": [
      "aditya (27)\n",
      "1\n"
     ]
    }
   ],
   "source": [
    "#inherited class\n",
    "class Person():\n",
    "    def __init__(self, name, year_born):\n",
    "        self.name = name\n",
    "        self.year_born = year_born\n",
    "        \n",
    "    def getage(self):\n",
    "        return Current_year - self.year_born\n",
    "    \n",
    "    def __str__(self):\n",
    "        return \"{} ({})\".format(self.name, self.getage())\n",
    "    \n",
    "class Student(Person):\n",
    "    def __init__(self, name, year_born):\n",
    "        Person.__init__(self, name, year_born)\n",
    "        self.knowledge = 0\n",
    "    def study(self):\n",
    "        self.knowledge += 1\n",
    "        \n",
    "        \n",
    "adi = Student(\"aditya\", 1993)\n",
    "print(adi)\n",
    "adi.study()\n",
    "print(adi.knowledge)"
   ]
  },
  {
   "cell_type": "markdown",
   "metadata": {},
   "source": [
    "Overriding methods"
   ]
  },
  {
   "cell_type": "code",
   "execution_count": 18,
   "metadata": {},
   "outputs": [
    {
     "name": "stdout",
     "output_type": "stream",
     "text": [
      "autobiogrophy by adi has size 2 mb\n"
     ]
    }
   ],
   "source": [
    "class Book():\n",
    "    def __init__(self, name, author):\n",
    "        self.name = name\n",
    "        self.author = author\n",
    "    def __str__(self):\n",
    "        return \"{} by {} has size {} mb\".format(self.name, self.author, self.size)\n",
    "#         if self is Ebook:\n",
    "#             return \"{} by {} has size {} mb\".format(self.name, self.author, self.size)      # is this correct? how do i define it?\n",
    "#         else:\n",
    "#             return \"{} by {} has size {} pages\".format(self.name, self.author, self.numpages)\n",
    "class Paperbook(Book):\n",
    "    def __init__(self, name, author, numpages):\n",
    "        Book.__init__(self, name, author)\n",
    "        self.numpages = numpages\n",
    "class Ebook(Book):\n",
    "    def __init__(self, name, author, size):\n",
    "        Book.__init__(self, name, author)\n",
    "        self.size = size\n",
    "\n",
    "Mybook = Ebook(\"autobiogrophy\",\"adi\",2)\n",
    "print(Mybook)\n",
    "    "
   ]
  },
  {
   "cell_type": "code",
   "execution_count": 19,
   "metadata": {},
   "outputs": [
    {
     "data": {
      "text/plain": [
       "2"
      ]
     },
     "execution_count": 19,
     "metadata": {},
     "output_type": "execute_result"
    }
   ],
   "source": [
    "Mybook.size"
   ]
  },
  {
   "cell_type": "markdown",
   "metadata": {},
   "source": [
    "Week 2 (mid) "
   ]
  },
  {
   "cell_type": "code",
   "execution_count": 29,
   "metadata": {},
   "outputs": [
    {
     "name": "stdout",
     "output_type": "stream",
     "text": [
      "2\n"
     ]
    }
   ],
   "source": [
    "#Composition- it takes other classes as atributes, but doesnt inherit any charecters from them. its just to count how many books \n",
    "# are there in the library, including paperbook and ebook.\n",
    "\n",
    "\n",
    "\n",
    "\n",
    "    \n",
    "class Book():\n",
    "    def __init__(self, name, author):\n",
    "        self.name = name\n",
    "        self.author = author\n",
    "    def __str__(self):\n",
    "        return \"{} by {} has size {} mb\".format(self.name, self.author, self.size)\n",
    "#         if self is Ebook:\n",
    "#             return \"{} by {} has size {} mb\".format(self.name, self.author, self.size)      # is this correct? how do i define it?\n",
    "#         else:\n",
    "#             return \"{} by {} has size {} pages\".format(self.name, self.author, self.numpages)\n",
    "class Paperbook(Book):\n",
    "    def __init__(self, name, author, numpages):\n",
    "        Book.__init__(self, name, author)\n",
    "        self.numpages = numpages\n",
    "class Ebook(Book):\n",
    "    def __init__(self, name, author, size):\n",
    "        Book.__init__(self, name, author)\n",
    "        self.size = size\n",
    "class Library():\n",
    "    def __init__(self):\n",
    "        self.books = []\n",
    "    def addBook(self, book):\n",
    "        self.books.append(book)\n",
    "    def totalbooks(self):\n",
    "        return len(self.books)\n",
    "        \n",
    "adi = Paperbook(\"auto\",\"pujar\",500)\n",
    "Mybook = Ebook(\"autobiogrophy\",\"adi\",2)\n",
    "rey = Library()\n",
    "rey.addBook(Mybook)\n",
    "rey.addBook(adi)\n",
    "print(rey.totalbooks())\n",
    "    \n"
   ]
  },
  {
   "cell_type": "markdown",
   "metadata": {},
   "source": [
    "INVOKING THE PARENT CLASS'S METHODS    "
   ]
  },
  {
   "cell_type": "code",
   "execution_count": null,
   "metadata": {},
   "outputs": [],
   "source": []
  }
 ],
 "metadata": {
  "kernelspec": {
   "display_name": "Python 3",
   "language": "python",
   "name": "python3"
  },
  "language_info": {
   "codemirror_mode": {
    "name": "ipython",
    "version": 3
   },
   "file_extension": ".py",
   "mimetype": "text/x-python",
   "name": "python",
   "nbconvert_exporter": "python",
   "pygments_lexer": "ipython3",
   "version": "3.7.9"
  }
 },
 "nbformat": 4,
 "nbformat_minor": 4
}
